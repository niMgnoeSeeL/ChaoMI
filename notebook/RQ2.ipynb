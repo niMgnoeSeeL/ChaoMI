{
 "cells": [
  {
   "cell_type": "code",
   "execution_count": 13,
   "metadata": {},
   "outputs": [],
   "source": [
    "import pandas as pd\n",
    "import os\n",
    "\n",
    "output_domain_size_dict = {\n",
    "    \"smartgrid-1\": (3, 12),\n",
    "    \"smartgrid-2\": (9, 12),\n",
    "    \"prob-termination-5\": (6, 10),\n",
    "    \"prob-termination-7\": (8, 10),\n",
    "    \"prob-termination-9\": (10, 10),\n",
    "    \"prob-termination-12\": (13, 20),\n",
    "    \"smartgrid-3\": (27, 12),\n",
    "    \"reservoir-6\": (64, 8),\n",
    "    \"window-20\": (20, 20),\n",
    "    \"window-24\": (24, 24),\n",
    "    \"window-28\": (28, 28),\n",
    "    \"window-32\": (32, 32),\n",
    "    \"smartgrid-4\": (81, 12),\n",
    "    \"smartgrid-5\": (243, 12),\n",
    "    \"reservoir-8\": (256, 16),\n",
    "    \"random-walk-14\": (500, 40),\n",
    "    \"random-walk-3\": (500, 24),\n",
    "    \"random-walk-5\": (500, 31),\n",
    "    \"random-walk-7\": (500, 33),\n",
    "    \"reservoir-10\": (1024, 32),\n",
    "    \"reservoir-4\": (16, 4),\n",
    "    \"reservoir-12\": (4096, 64),\n",
    "}\n",
    "\n",
    "method_rename = {\n",
    "    \"empirical\": \"Empirical\",\n",
    "    \"miller\": \"Miller\",\n",
    "    \"HyLeak\": \"HyLeak\",\n",
    "    \"ChaoFON\": \"ChaoFON\",\n",
    "    \"ChaoFRN\": \"ChaoFRN\",\n",
    "    \"ChaoION\": \"ChaoSON\",\n",
    "    \"ChaoIRN\": \"ChaoSRN\",\n",
    "    \"ChaoFOM\": \"ChaoFOM\",\n",
    "    \"ChaoFRM\": \"ChaoFRM\",\n",
    "    \"ChaoIOM\": \"ChaoSOM\",\n",
    "    \"ChaoIRM\": \"ChaoSRM\",\n",
    "}\n",
    "method_order = [\n",
    "    \"Empirical\",\n",
    "    \"Miller\",\n",
    "    \"HyLeak\",\n",
    "    \"ChaoFON\",\n",
    "    \"ChaoFRN\",\n",
    "    \"ChaoSON\",\n",
    "    \"ChaoSRN\",\n",
    "    \"ChaoFOM\",\n",
    "    \"ChaoFRM\",\n",
    "    \"ChaoSOM\",\n",
    "    \"ChaoSRM\",\n",
    "]\n"
   ]
  },
  {
   "cell_type": "code",
   "execution_count": 14,
   "metadata": {},
   "outputs": [
    {
     "name": "stderr",
     "output_type": "stream",
     "text": [
      "/tmp/ipykernel_92898/829916277.py:40: FutureWarning: The behavior of DataFrame concatenation with empty or all-NA entries is deprecated. In a future version, this will no longer exclude empty or all-NA columns when determining the result dtypes. To retain the old behavior, exclude the relevant entries before the concat operation.\n",
      "  df = pd.concat([df, data_mean], ignore_index=True)\n",
      "/tmp/ipykernel_92898/829916277.py:40: FutureWarning: The behavior of DataFrame concatenation with empty or all-NA entries is deprecated. In a future version, this will no longer exclude empty or all-NA columns when determining the result dtypes. To retain the old behavior, exclude the relevant entries before the concat operation.\n",
      "  df = pd.concat([df, data_mean], ignore_index=True)\n"
     ]
    },
    {
     "data": {
      "text/html": [
       "<div>\n",
       "<style scoped>\n",
       "    .dataframe tbody tr th:only-of-type {\n",
       "        vertical-align: middle;\n",
       "    }\n",
       "\n",
       "    .dataframe tbody tr th {\n",
       "        vertical-align: top;\n",
       "    }\n",
       "\n",
       "    .dataframe thead th {\n",
       "        text-align: right;\n",
       "    }\n",
       "</style>\n",
       "<table border=\"1\" class=\"dataframe\">\n",
       "  <thead>\n",
       "    <tr style=\"text-align: right;\">\n",
       "      <th></th>\n",
       "      <th>subject</th>\n",
       "      <th>GT</th>\n",
       "      <th>ratio</th>\n",
       "      <th>method</th>\n",
       "      <th>MI</th>\n",
       "      <th>SE</th>\n",
       "      <th>o.e.</th>\n",
       "    </tr>\n",
       "  </thead>\n",
       "  <tbody>\n",
       "    <tr>\n",
       "      <th>0</th>\n",
       "      <td>smartgrid-1</td>\n",
       "      <td>0.065825</td>\n",
       "      <td>0.5</td>\n",
       "      <td>Empirical</td>\n",
       "      <td>0.394855</td>\n",
       "      <td>0.127088</td>\n",
       "      <td>True</td>\n",
       "    </tr>\n",
       "    <tr>\n",
       "      <th>1</th>\n",
       "      <td>smartgrid-1</td>\n",
       "      <td>0.065825</td>\n",
       "      <td>0.5</td>\n",
       "      <td>Miller</td>\n",
       "      <td>0.198559</td>\n",
       "      <td>0.030786</td>\n",
       "      <td>True</td>\n",
       "    </tr>\n",
       "    <tr>\n",
       "      <th>2</th>\n",
       "      <td>smartgrid-1</td>\n",
       "      <td>0.065825</td>\n",
       "      <td>0.5</td>\n",
       "      <td>HyLeak</td>\n",
       "      <td>0.113302</td>\n",
       "      <td>0.013150</td>\n",
       "      <td>True</td>\n",
       "    </tr>\n",
       "    <tr>\n",
       "      <th>3</th>\n",
       "      <td>smartgrid-1</td>\n",
       "      <td>0.065825</td>\n",
       "      <td>0.5</td>\n",
       "      <td>ChaoFON</td>\n",
       "      <td>0.386327</td>\n",
       "      <td>0.127033</td>\n",
       "      <td>True</td>\n",
       "    </tr>\n",
       "    <tr>\n",
       "      <th>4</th>\n",
       "      <td>smartgrid-1</td>\n",
       "      <td>0.065825</td>\n",
       "      <td>0.5</td>\n",
       "      <td>ChaoFRN</td>\n",
       "      <td>0.395682</td>\n",
       "      <td>0.128371</td>\n",
       "      <td>True</td>\n",
       "    </tr>\n",
       "    <tr>\n",
       "      <th>...</th>\n",
       "      <td>...</td>\n",
       "      <td>...</td>\n",
       "      <td>...</td>\n",
       "      <td>...</td>\n",
       "      <td>...</td>\n",
       "      <td>...</td>\n",
       "      <td>...</td>\n",
       "    </tr>\n",
       "    <tr>\n",
       "      <th>963</th>\n",
       "      <td>reservoir-12</td>\n",
       "      <td>1.604873</td>\n",
       "      <td>5.0</td>\n",
       "      <td>ChaoSRN</td>\n",
       "      <td>1.634559</td>\n",
       "      <td>0.000882</td>\n",
       "      <td>True</td>\n",
       "    </tr>\n",
       "    <tr>\n",
       "      <th>964</th>\n",
       "      <td>reservoir-12</td>\n",
       "      <td>1.604873</td>\n",
       "      <td>5.0</td>\n",
       "      <td>ChaoFOM</td>\n",
       "      <td>1.775405</td>\n",
       "      <td>0.029084</td>\n",
       "      <td>True</td>\n",
       "    </tr>\n",
       "    <tr>\n",
       "      <th>965</th>\n",
       "      <td>reservoir-12</td>\n",
       "      <td>1.604873</td>\n",
       "      <td>5.0</td>\n",
       "      <td>ChaoFRM</td>\n",
       "      <td>1.777474</td>\n",
       "      <td>0.029794</td>\n",
       "      <td>True</td>\n",
       "    </tr>\n",
       "    <tr>\n",
       "      <th>966</th>\n",
       "      <td>reservoir-12</td>\n",
       "      <td>1.604873</td>\n",
       "      <td>5.0</td>\n",
       "      <td>ChaoSOM</td>\n",
       "      <td>1.634573</td>\n",
       "      <td>0.000883</td>\n",
       "      <td>True</td>\n",
       "    </tr>\n",
       "    <tr>\n",
       "      <th>967</th>\n",
       "      <td>reservoir-12</td>\n",
       "      <td>1.604873</td>\n",
       "      <td>5.0</td>\n",
       "      <td>ChaoSRM</td>\n",
       "      <td>1.634559</td>\n",
       "      <td>0.000882</td>\n",
       "      <td>True</td>\n",
       "    </tr>\n",
       "  </tbody>\n",
       "</table>\n",
       "<p>968 rows × 7 columns</p>\n",
       "</div>"
      ],
      "text/plain": [
       "          subject        GT  ratio     method        MI        SE  o.e.\n",
       "0     smartgrid-1  0.065825    0.5  Empirical  0.394855  0.127088  True\n",
       "1     smartgrid-1  0.065825    0.5     Miller  0.198559  0.030786  True\n",
       "2     smartgrid-1  0.065825    0.5     HyLeak  0.113302  0.013150  True\n",
       "3     smartgrid-1  0.065825    0.5    ChaoFON  0.386327  0.127033  True\n",
       "4     smartgrid-1  0.065825    0.5    ChaoFRN  0.395682  0.128371  True\n",
       "..            ...       ...    ...        ...       ...       ...   ...\n",
       "963  reservoir-12  1.604873    5.0    ChaoSRN  1.634559  0.000882  True\n",
       "964  reservoir-12  1.604873    5.0    ChaoFOM  1.775405  0.029084  True\n",
       "965  reservoir-12  1.604873    5.0    ChaoFRM  1.777474  0.029794  True\n",
       "966  reservoir-12  1.604873    5.0    ChaoSOM  1.634573  0.000883  True\n",
       "967  reservoir-12  1.604873    5.0    ChaoSRM  1.634559  0.000882  True\n",
       "\n",
       "[968 rows x 7 columns]"
      ]
     },
     "metadata": {},
     "output_type": "display_data"
    }
   ],
   "source": [
    "df = pd.DataFrame(\n",
    "    columns=[\"subject\", \"GT\", \"ratio\", \"method\", \"MI\", \"SE\", \"o.e.\"]\n",
    ")\n",
    "for subject in output_domain_size_dict.keys():\n",
    "    data_path = f\"../result/esti-merged-{subject}-i-xy.csv\"\n",
    "    if os.path.exists(data_path) == False:\n",
    "        continue\n",
    "    data = pd.read_csv(data_path)\n",
    "    GT = data[\"GT\"].values[0]\n",
    "    data = data.drop(columns=[\"GT\"])\n",
    "    data_melt = data.melt(\n",
    "        id_vars=[\"Nx\", \"trial\"], var_name=\"method\", value_name=\"MI\"\n",
    "    )\n",
    "    # method rename\n",
    "    data_melt[\"method\"] = data_melt[\"method\"].map(method_rename)\n",
    "    data_melt[\"method\"] = pd.Categorical(data_melt[\"method\"], method_order)\n",
    "    data_melt[\"SE\"] = (data_melt[\"MI\"] - GT) ** 2\n",
    "    data_mean = (\n",
    "        data_melt.drop(columns=[\"SE\"])\n",
    "        .groupby([\"Nx\", \"method\"], observed=False)\n",
    "        .mean()\n",
    "        .reset_index()\n",
    "        .drop(columns=[\"trial\"])\n",
    "    )\n",
    "    data_mse = (\n",
    "        data_melt.drop(columns=[\"MI\"])\n",
    "        .groupby([\"Nx\", \"method\"], observed=False)\n",
    "        .mean()\n",
    "        .reset_index()\n",
    "        .drop(columns=[\"trial\"])\n",
    "    )\n",
    "    data_mean = data_mean.merge(data_mse, on=[\"Nx\", \"method\"])\n",
    "    NS_x, NS_y = output_domain_size_dict[subject]\n",
    "    data_mean[\"ratio\"] = data_mean[\"Nx\"] / NS_y\n",
    "    data_mean.loc[data_mean[\"ratio\"] < 1, \"ratio\"] = 0.5\n",
    "    data_mean = data_mean.drop(columns=[\"Nx\"])\n",
    "    data_mean[\"subject\"] = subject\n",
    "    data_mean[\"GT\"] = GT\n",
    "    data_mean[\"o.e.\"] = data_mean[\"MI\"] - GT > 0\n",
    "    df = pd.concat([df, data_mean], ignore_index=True)\n",
    "df = df.dropna(subset=[\"MI\"])\n",
    "display(df)\n"
   ]
  },
  {
   "cell_type": "code",
   "execution_count": 15,
   "metadata": {},
   "outputs": [],
   "source": [
    "def compare(method1: str, method2: str, metric: str, ratio=None, debug=False):\n",
    "    sub_df = df.copy().reset_index(drop=True)\n",
    "    if ratio is not None:\n",
    "        sub_df = sub_df[sub_df[\"ratio\"].isin(ratio)]\n",
    "    method1_df = sub_df[sub_df[\"method\"] == method1].set_index(\n",
    "        [\"subject\", \"ratio\"]\n",
    "    )\n",
    "    if method2 is not None:\n",
    "        method2_df = sub_df[sub_df[\"method\"] == method2].set_index(\n",
    "            [\"subject\", \"ratio\"]\n",
    "        )\n",
    "    if debug and method2 is not None:\n",
    "        pd.set_option(\"display.max_rows\", None)\n",
    "        display(method1_df[metric] - method2_df[metric])\n",
    "        pd.reset_option(\"display.max_rows\")\n",
    "    if method2 is not None:\n",
    "        diff = (method1_df[metric] - method2_df[metric]) > 0\n",
    "        zero = (method1_df[metric] - method2_df[metric]) == 0\n",
    "    else:\n",
    "        diff = method1_df[metric] > 0\n",
    "        zero = method1_df[metric] == 0\n",
    "    return (diff.sum(), zero.sum(), len(diff), diff.sum() / len(diff))\n",
    "\n",
    "\n",
    "def diff(method1: str, method2: str, metric: str, ratio=None, debug=False):\n",
    "    sub_df = df.copy().reset_index(drop=True)\n",
    "    if ratio is not None:\n",
    "        sub_df = sub_df[sub_df[\"ratio\"].isin(ratio)]\n",
    "    method1_df = sub_df[sub_df[\"method\"] == method1].set_index(\n",
    "        [\"subject\", \"ratio\"]\n",
    "    )\n",
    "    if method2 is not None:\n",
    "        method2_df = sub_df[sub_df[\"method\"] == method2].set_index(\n",
    "            [\"subject\", \"ratio\"]\n",
    "        )\n",
    "    if debug and method2 is not None:\n",
    "        pd.set_option(\"display.max_rows\", None)\n",
    "        display(method1_df[metric] - method2_df[metric])\n",
    "        pd.reset_option(\"display.max_rows\")\n",
    "    if method2 is not None:\n",
    "        diff = (method1_df[metric] - method2_df[metric])\n",
    "    else:\n",
    "        diff = method1_df[metric]\n",
    "    return diff.mean(), diff.std()\n",
    "\n",
    "\n",
    "def relative_error(method, ratio=None, only_negative=False):\n",
    "    sub_df = df.copy().reset_index(drop=True)\n",
    "    if ratio is not None:\n",
    "        sub_df = sub_df[sub_df[\"ratio\"].isin(ratio)]\n",
    "    method_df = sub_df[sub_df[\"method\"] == method].set_index(\n",
    "        [\"subject\", \"ratio\"]\n",
    "    )\n",
    "    return (\n",
    "        (method_df[\"MI\"] - method_df[\"GT\"])\n",
    "        * ((1 - method_df[\"o.e.\"]) if only_negative else 1)\n",
    "        / method_df[\"GT\"]\n",
    "    ).mean()"
   ]
  },
  {
   "cell_type": "markdown",
   "metadata": {},
   "source": [
    "# Empirical vs Chao"
   ]
  },
  {
   "cell_type": "code",
   "execution_count": 16,
   "metadata": {},
   "outputs": [
    {
     "name": "stdout",
     "output_type": "stream",
     "text": [
      "Empirical > ChaoFON: (32, 1, 88, 0.36363636363636365)\n",
      "Empirical > ChaoFRN: (56, 1, 88, 0.6363636363636364)\n",
      "Empirical > ChaoSON: (68, 1, 88, 0.7727272727272727)\n",
      "Empirical > ChaoSRN: (87, 1, 88, 0.9886363636363636)\n"
     ]
    }
   ],
   "source": [
    "print(\"Empirical > ChaoFON:\", compare(\"Empirical\", \"ChaoFON\", \"MI\"))\n",
    "print(\"Empirical > ChaoFRN:\", compare(\"Empirical\", \"ChaoFRN\", \"MI\"))\n",
    "print(\"Empirical > ChaoSON:\", compare(\"Empirical\", \"ChaoSON\", \"MI\"))\n",
    "print(\"Empirical > ChaoSRN:\", compare(\"Empirical\", \"ChaoSRN\", \"MI\"))"
   ]
  },
  {
   "cell_type": "code",
   "execution_count": 17,
   "metadata": {},
   "outputs": [
    {
     "name": "stdout",
     "output_type": "stream",
     "text": [
      "Empirical > ChaoFON: (30, 0, 88, 0.3409090909090909)\n",
      "Empirical > ChaoFRN: (56, 0, 88, 0.6363636363636364)\n",
      "Empirical > ChaoSON: (69, 0, 88, 0.7840909090909091)\n",
      "Empirical > ChaoSRN: (88, 0, 88, 1.0)\n"
     ]
    }
   ],
   "source": [
    "print(\"Empirical > ChaoFON:\", compare(\"Empirical\", \"ChaoFON\", \"SE\"))\n",
    "print(\"Empirical > ChaoFRN:\", compare(\"Empirical\", \"ChaoFRN\", \"SE\"))\n",
    "print(\"Empirical > ChaoSON:\", compare(\"Empirical\", \"ChaoSON\", \"SE\"))\n",
    "print(\"Empirical > ChaoSRN:\", compare(\"Empirical\", \"ChaoSRN\", \"SE\"))"
   ]
  },
  {
   "cell_type": "markdown",
   "metadata": {},
   "source": [
    "# Flatten vs ByInput"
   ]
  },
  {
   "cell_type": "code",
   "execution_count": 18,
   "metadata": {},
   "outputs": [
    {
     "name": "stdout",
     "output_type": "stream",
     "text": [
      "ChaoFON > ChaoSON: (64, 0, 88, 0.7272727272727273)\n",
      "ChaoFRN > ChaoSRN: (47, 0, 88, 0.5340909090909091)\n"
     ]
    }
   ],
   "source": [
    "print(\"ChaoFON > ChaoSON:\", compare(\"ChaoFON\", \"ChaoSON\", \"MI\"))\n",
    "print(\"ChaoFRN > ChaoSRN:\", compare(\"ChaoFRN\", \"ChaoSRN\", \"MI\"))"
   ]
  },
  {
   "cell_type": "code",
   "execution_count": 19,
   "metadata": {},
   "outputs": [
    {
     "name": "stdout",
     "output_type": "stream",
     "text": [
      "ChaoFON > ChaoSON: (65, 0, 88, 0.7386363636363636)\n",
      "ChaoFRN > ChaoSRN: (50, 0, 88, 0.5681818181818182)\n"
     ]
    }
   ],
   "source": [
    "print(\"ChaoFON > ChaoSON:\", compare(\"ChaoFON\", \"ChaoSON\", \"SE\"))\n",
    "print(\"ChaoFRN > ChaoSRN:\", compare(\"ChaoFRN\", \"ChaoSRN\", \"SE\"))"
   ]
  },
  {
   "cell_type": "markdown",
   "metadata": {},
   "source": [
    "# Refinement"
   ]
  },
  {
   "cell_type": "code",
   "execution_count": 20,
   "metadata": {},
   "outputs": [
    {
     "name": "stdout",
     "output_type": "stream",
     "text": [
      "ChaoFON > ChaoFRN: (56, 1, 88, 0.6363636363636364)\n",
      "ChaoSON > ChaoSRN: (63, 2, 88, 0.7159090909090909)\n"
     ]
    }
   ],
   "source": [
    "print(\"ChaoFON > ChaoFRN:\", compare(\"ChaoFON\", \"ChaoFRN\", \"MI\"))\n",
    "print(\"ChaoSON > ChaoSRN:\", compare(\"ChaoSON\", \"ChaoSRN\", \"MI\"))"
   ]
  },
  {
   "cell_type": "code",
   "execution_count": 21,
   "metadata": {},
   "outputs": [
    {
     "name": "stdout",
     "output_type": "stream",
     "text": [
      "ChaoFON > ChaoFRN: (57, 1, 88, 0.6477272727272727)\n",
      "ChaoSON > ChaoSRN: (63, 2, 88, 0.7159090909090909)\n"
     ]
    }
   ],
   "source": [
    "print(\"ChaoFON > ChaoFRN:\", compare(\"ChaoFON\", \"ChaoFRN\", \"SE\"))\n",
    "print(\"ChaoSON > ChaoSRN:\", compare(\"ChaoSON\", \"ChaoSRN\", \"SE\"))"
   ]
  },
  {
   "cell_type": "markdown",
   "metadata": {},
   "source": [
    "# Müller's bias correction"
   ]
  },
  {
   "cell_type": "code",
   "execution_count": 22,
   "metadata": {},
   "outputs": [
    {
     "name": "stdout",
     "output_type": "stream",
     "text": [
      "Empirical > Miller: (72, 0, 88, 0.8181818181818182)\n",
      "ChaoFRN > ChaoFRM: (50, 0, 88, 0.5681818181818182)\n",
      "ChaoSRN > ChaoSRM: (79, 0, 88, 0.8977272727272727)\n"
     ]
    }
   ],
   "source": [
    "print(\"Empirical > Miller:\", compare(\"Empirical\", \"Miller\", \"SE\"))\n",
    "print(\"ChaoFRN > ChaoFRM:\", compare(\"ChaoFRN\", \"ChaoFRM\", \"SE\"))\n",
    "print(\"ChaoSRN > ChaoSRM:\", compare(\"ChaoSRN\", \"ChaoSRM\", \"SE\"))"
   ]
  },
  {
   "cell_type": "code",
   "execution_count": 23,
   "metadata": {},
   "outputs": [
    {
     "name": "stdout",
     "output_type": "stream",
     "text": [
      "50\n",
      "48\n",
      "7\n"
     ]
    }
   ],
   "source": [
    "print(\n",
    "    compare(\"Empirical\", None, \"o.e.\")[0] - compare(\"Miller\", None, \"o.e.\")[0]\n",
    ")\n",
    "print(compare(\"ChaoFRN\", None, \"o.e.\")[0] - compare(\"ChaoFRM\", None, \"o.e.\")[0])\n",
    "print(compare(\"ChaoSRN\", None, \"o.e.\")[0] - compare(\"ChaoSRM\", None, \"o.e.\")[0])\n"
   ]
  },
  {
   "cell_type": "markdown",
   "metadata": {},
   "source": [
    "How much is the difference"
   ]
  },
  {
   "cell_type": "code",
   "execution_count": 24,
   "metadata": {},
   "outputs": [
    {
     "name": "stdout",
     "output_type": "stream",
     "text": [
      "Empirical > Miller: (0.3539272669363526, 0.283879883525403)\n",
      "ChaoFRN > ChaoFRM: (0.22483404995742973, 0.22199499734574057)\n",
      "ChaoSRN > ChaoSRM: (0.05648676474732788, 0.08446017118961785)\n"
     ]
    }
   ],
   "source": [
    "print(\"Empirical > Miller:\", diff(\"Empirical\", \"Miller\", \"MI\"))\n",
    "print(\"ChaoFRN > ChaoFRM:\", diff(\"ChaoFRN\", \"ChaoFRM\", \"MI\"))\n",
    "print(\"ChaoSRN > ChaoSRM:\", diff(\"ChaoSRN\", \"ChaoSRM\", \"MI\"))"
   ]
  },
  {
   "cell_type": "code",
   "execution_count": null,
   "metadata": {},
   "outputs": [],
   "source": []
  }
 ],
 "metadata": {
  "kernelspec": {
   "display_name": "Python 3",
   "language": "python",
   "name": "python3"
  },
  "language_info": {
   "codemirror_mode": {
    "name": "ipython",
    "version": 3
   },
   "file_extension": ".py",
   "mimetype": "text/x-python",
   "name": "python",
   "nbconvert_exporter": "python",
   "pygments_lexer": "ipython3",
   "version": "3.12.0"
  },
  "orig_nbformat": 4
 },
 "nbformat": 4,
 "nbformat_minor": 2
}
